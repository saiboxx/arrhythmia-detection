{
 "cells": [
  {
   "cell_type": "code",
   "execution_count": 1,
   "metadata": {},
   "outputs": [],
   "source": [
    "import os\n",
    "import pickle\n",
    "import numpy as np\n",
    "from tqdm import tqdm\n",
    "import pandas as pd\n",
    "import matplotlib.pyplot as plt"
   ]
  },
  {
   "cell_type": "code",
   "execution_count": 2,
   "metadata": {},
   "outputs": [
    {
     "name": "stdout",
     "output_type": "stream",
     "text": [
      "['MUSE_20180120_123813_67000.csv', 'MUSE_20180114_131501_69000.csv', 'MUSE_20180114_070252_15000.csv', 'MUSE_20180112_120955_24000.csv', 'MUSE_20180210_123937_02000.csv', 'MUSE_20180118_135213_14000.csv', 'MUSE_20180113_135458_69000.csv', 'MUSE_20180113_130206_88000.csv', 'MUSE_20180113_125418_88000.csv', 'MUSE_20180113_075147_58000.csv']\n"
     ]
    }
   ],
   "source": [
    "root = '../data/raw/'\n",
    "\n",
    "ecg_files = os.listdir(root + '/ECGDataDenoised')\n",
    "print(ecg_files[:10])"
   ]
  },
  {
   "cell_type": "code",
   "execution_count": 3,
   "metadata": {
    "scrolled": true
   },
   "outputs": [
    {
     "data": {
      "text/html": [
       "<div>\n",
       "<style scoped>\n",
       "    .dataframe tbody tr th:only-of-type {\n",
       "        vertical-align: middle;\n",
       "    }\n",
       "\n",
       "    .dataframe tbody tr th {\n",
       "        vertical-align: top;\n",
       "    }\n",
       "\n",
       "    .dataframe thead th {\n",
       "        text-align: right;\n",
       "    }\n",
       "</style>\n",
       "<table border=\"1\" class=\"dataframe\">\n",
       "  <thead>\n",
       "    <tr style=\"text-align: right;\">\n",
       "      <th></th>\n",
       "      <th>Attributes</th>\n",
       "      <th>Type</th>\n",
       "      <th>ValueRange</th>\n",
       "      <th>Description</th>\n",
       "    </tr>\n",
       "  </thead>\n",
       "  <tbody>\n",
       "    <tr>\n",
       "      <th>0</th>\n",
       "      <td>FileName</td>\n",
       "      <td>String</td>\n",
       "      <td>NaN</td>\n",
       "      <td>ECG data file name(unique ID)</td>\n",
       "    </tr>\n",
       "    <tr>\n",
       "      <th>1</th>\n",
       "      <td>Rhythm</td>\n",
       "      <td>String</td>\n",
       "      <td>NaN</td>\n",
       "      <td>Rhythm Label</td>\n",
       "    </tr>\n",
       "    <tr>\n",
       "      <th>2</th>\n",
       "      <td>Beat</td>\n",
       "      <td>String</td>\n",
       "      <td>NaN</td>\n",
       "      <td>Other conditions Label</td>\n",
       "    </tr>\n",
       "    <tr>\n",
       "      <th>3</th>\n",
       "      <td>PatientAge</td>\n",
       "      <td>Numeric</td>\n",
       "      <td>0-999</td>\n",
       "      <td>Age</td>\n",
       "    </tr>\n",
       "    <tr>\n",
       "      <th>4</th>\n",
       "      <td>DateofBirth</td>\n",
       "      <td>Date</td>\n",
       "      <td>NaN</td>\n",
       "      <td>Date of Birth</td>\n",
       "    </tr>\n",
       "  </tbody>\n",
       "</table>\n",
       "</div>"
      ],
      "text/plain": [
       "    Attributes     Type ValueRange                    Description\n",
       "0     FileName   String        NaN  ECG data file name(unique ID)\n",
       "1       Rhythm   String        NaN                   Rhythm Label\n",
       "2         Beat   String        NaN         Other conditions Label\n",
       "3   PatientAge  Numeric      0-999                            Age\n",
       "4  DateofBirth     Date        NaN                  Date of Birth"
      ]
     },
     "execution_count": 3,
     "metadata": {},
     "output_type": "execute_result"
    }
   ],
   "source": [
    "attributes_dictionary = pd.read_excel(root + '/AttributesDictionary.xlsx')\n",
    "attributes_dictionary.head()"
   ]
  },
  {
   "cell_type": "code",
   "execution_count": 4,
   "metadata": {},
   "outputs": [
    {
     "data": {
      "text/html": [
       "<div>\n",
       "<style scoped>\n",
       "    .dataframe tbody tr th:only-of-type {\n",
       "        vertical-align: middle;\n",
       "    }\n",
       "\n",
       "    .dataframe tbody tr th {\n",
       "        vertical-align: top;\n",
       "    }\n",
       "\n",
       "    .dataframe thead th {\n",
       "        text-align: right;\n",
       "    }\n",
       "</style>\n",
       "<table border=\"1\" class=\"dataframe\">\n",
       "  <thead>\n",
       "    <tr style=\"text-align: right;\">\n",
       "      <th></th>\n",
       "      <th>Acronym Name</th>\n",
       "      <th>Full Name</th>\n",
       "    </tr>\n",
       "  </thead>\n",
       "  <tbody>\n",
       "    <tr>\n",
       "      <th>0</th>\n",
       "      <td>1AVB</td>\n",
       "      <td>1 degree atrioventricular block</td>\n",
       "    </tr>\n",
       "    <tr>\n",
       "      <th>1</th>\n",
       "      <td>2AVB</td>\n",
       "      <td>2 degree atrioventricular block</td>\n",
       "    </tr>\n",
       "    <tr>\n",
       "      <th>2</th>\n",
       "      <td>2AVB1</td>\n",
       "      <td>2 degree atrioventricular block(Type one)</td>\n",
       "    </tr>\n",
       "    <tr>\n",
       "      <th>3</th>\n",
       "      <td>2AVB2</td>\n",
       "      <td>2 degree atrioventricular block(Type two)</td>\n",
       "    </tr>\n",
       "    <tr>\n",
       "      <th>4</th>\n",
       "      <td>3AVB</td>\n",
       "      <td>3 degree atrioventricular block</td>\n",
       "    </tr>\n",
       "  </tbody>\n",
       "</table>\n",
       "</div>"
      ],
      "text/plain": [
       "  Acronym Name                                  Full Name\n",
       "0         1AVB            1 degree atrioventricular block\n",
       "1         2AVB            2 degree atrioventricular block\n",
       "2        2AVB1  2 degree atrioventricular block(Type one)\n",
       "3        2AVB2  2 degree atrioventricular block(Type two)\n",
       "4         3AVB            3 degree atrioventricular block"
      ]
     },
     "execution_count": 4,
     "metadata": {},
     "output_type": "execute_result"
    }
   ],
   "source": [
    "condition_names = pd.read_excel(root + '/ConditionNames.xlsx')\n",
    "condition_names.head()"
   ]
  },
  {
   "cell_type": "code",
   "execution_count": 5,
   "metadata": {},
   "outputs": [
    {
     "data": {
      "text/html": [
       "<div>\n",
       "<style scoped>\n",
       "    .dataframe tbody tr th:only-of-type {\n",
       "        vertical-align: middle;\n",
       "    }\n",
       "\n",
       "    .dataframe tbody tr th {\n",
       "        vertical-align: top;\n",
       "    }\n",
       "\n",
       "    .dataframe thead th {\n",
       "        text-align: right;\n",
       "    }\n",
       "</style>\n",
       "<table border=\"1\" class=\"dataframe\">\n",
       "  <thead>\n",
       "    <tr style=\"text-align: right;\">\n",
       "      <th></th>\n",
       "      <th>FileName</th>\n",
       "      <th>Rhythm</th>\n",
       "      <th>Beat</th>\n",
       "      <th>PatientAge</th>\n",
       "      <th>DateofBirth</th>\n",
       "      <th>Gender</th>\n",
       "      <th>VentricularRate</th>\n",
       "      <th>AtrialRate</th>\n",
       "      <th>QRSDuration</th>\n",
       "      <th>QTInterval</th>\n",
       "      <th>QTCorrected</th>\n",
       "      <th>RAxis</th>\n",
       "      <th>TAxis</th>\n",
       "      <th>QRSCount</th>\n",
       "      <th>QOnset</th>\n",
       "      <th>QOffset</th>\n",
       "      <th>TOffset</th>\n",
       "    </tr>\n",
       "  </thead>\n",
       "  <tbody>\n",
       "    <tr>\n",
       "      <th>0</th>\n",
       "      <td>MUSE_20180113_171327_27000</td>\n",
       "      <td>AFIB</td>\n",
       "      <td>RBBB TWC</td>\n",
       "      <td>85</td>\n",
       "      <td>01-01-1932</td>\n",
       "      <td>MALE</td>\n",
       "      <td>117</td>\n",
       "      <td>234</td>\n",
       "      <td>114</td>\n",
       "      <td>356</td>\n",
       "      <td>496</td>\n",
       "      <td>81</td>\n",
       "      <td>-27</td>\n",
       "      <td>19</td>\n",
       "      <td>208</td>\n",
       "      <td>265</td>\n",
       "      <td>386</td>\n",
       "    </tr>\n",
       "    <tr>\n",
       "      <th>1</th>\n",
       "      <td>MUSE_20180112_073319_29000</td>\n",
       "      <td>SB</td>\n",
       "      <td>TWC</td>\n",
       "      <td>59</td>\n",
       "      <td>01-01-1958</td>\n",
       "      <td>FEMALE</td>\n",
       "      <td>52</td>\n",
       "      <td>52</td>\n",
       "      <td>92</td>\n",
       "      <td>432</td>\n",
       "      <td>401</td>\n",
       "      <td>76</td>\n",
       "      <td>42</td>\n",
       "      <td>8</td>\n",
       "      <td>215</td>\n",
       "      <td>261</td>\n",
       "      <td>431</td>\n",
       "    </tr>\n",
       "    <tr>\n",
       "      <th>2</th>\n",
       "      <td>MUSE_20180111_165520_97000</td>\n",
       "      <td>SA</td>\n",
       "      <td>NONE</td>\n",
       "      <td>20</td>\n",
       "      <td>01-01-1996</td>\n",
       "      <td>FEMALE</td>\n",
       "      <td>67</td>\n",
       "      <td>67</td>\n",
       "      <td>82</td>\n",
       "      <td>382</td>\n",
       "      <td>403</td>\n",
       "      <td>88</td>\n",
       "      <td>20</td>\n",
       "      <td>11</td>\n",
       "      <td>224</td>\n",
       "      <td>265</td>\n",
       "      <td>415</td>\n",
       "    </tr>\n",
       "    <tr>\n",
       "      <th>3</th>\n",
       "      <td>MUSE_20180113_121940_44000</td>\n",
       "      <td>SB</td>\n",
       "      <td>NONE</td>\n",
       "      <td>66</td>\n",
       "      <td>01-01-1951</td>\n",
       "      <td>MALE</td>\n",
       "      <td>53</td>\n",
       "      <td>53</td>\n",
       "      <td>96</td>\n",
       "      <td>456</td>\n",
       "      <td>427</td>\n",
       "      <td>34</td>\n",
       "      <td>3</td>\n",
       "      <td>9</td>\n",
       "      <td>219</td>\n",
       "      <td>267</td>\n",
       "      <td>447</td>\n",
       "    </tr>\n",
       "    <tr>\n",
       "      <th>4</th>\n",
       "      <td>MUSE_20180112_122850_57000</td>\n",
       "      <td>AF</td>\n",
       "      <td>STDD STTC</td>\n",
       "      <td>73</td>\n",
       "      <td>01-01-1943</td>\n",
       "      <td>FEMALE</td>\n",
       "      <td>162</td>\n",
       "      <td>162</td>\n",
       "      <td>114</td>\n",
       "      <td>252</td>\n",
       "      <td>413</td>\n",
       "      <td>68</td>\n",
       "      <td>-40</td>\n",
       "      <td>26</td>\n",
       "      <td>228</td>\n",
       "      <td>285</td>\n",
       "      <td>354</td>\n",
       "    </tr>\n",
       "  </tbody>\n",
       "</table>\n",
       "</div>"
      ],
      "text/plain": [
       "                     FileName Rhythm       Beat  PatientAge DateofBirth  \\\n",
       "0  MUSE_20180113_171327_27000   AFIB   RBBB TWC          85  01-01-1932   \n",
       "1  MUSE_20180112_073319_29000     SB        TWC          59  01-01-1958   \n",
       "2  MUSE_20180111_165520_97000     SA       NONE          20  01-01-1996   \n",
       "3  MUSE_20180113_121940_44000     SB       NONE          66  01-01-1951   \n",
       "4  MUSE_20180112_122850_57000     AF  STDD STTC          73  01-01-1943   \n",
       "\n",
       "   Gender  VentricularRate  AtrialRate  QRSDuration  QTInterval  QTCorrected  \\\n",
       "0    MALE              117         234          114         356          496   \n",
       "1  FEMALE               52          52           92         432          401   \n",
       "2  FEMALE               67          67           82         382          403   \n",
       "3    MALE               53          53           96         456          427   \n",
       "4  FEMALE              162         162          114         252          413   \n",
       "\n",
       "   RAxis  TAxis  QRSCount  QOnset  QOffset  TOffset  \n",
       "0     81    -27        19     208      265      386  \n",
       "1     76     42         8     215      261      431  \n",
       "2     88     20        11     224      265      415  \n",
       "3     34      3         9     219      267      447  \n",
       "4     68    -40        26     228      285      354  "
      ]
     },
     "execution_count": 5,
     "metadata": {},
     "output_type": "execute_result"
    }
   ],
   "source": [
    "diagnostics = pd.read_excel(root + '/Diagnostics.xlsx')\n",
    "diagnostics.head()"
   ]
  },
  {
   "cell_type": "markdown",
   "metadata": {},
   "source": [
    "### !Please check the R script for exploration on the diagnostics!"
   ]
  },
  {
   "cell_type": "markdown",
   "metadata": {},
   "source": [
    "#### Remove files with deleted labels from file vector "
   ]
  },
  {
   "cell_type": "code",
   "execution_count": 6,
   "metadata": {},
   "outputs": [
    {
     "data": {
      "text/plain": [
       "10646"
      ]
     },
     "execution_count": 6,
     "metadata": {},
     "output_type": "execute_result"
    }
   ],
   "source": [
    "len(ecg_files)"
   ]
  },
  {
   "cell_type": "code",
   "execution_count": 7,
   "metadata": {},
   "outputs": [
    {
     "data": {
      "text/plain": [
       "9787"
      ]
     },
     "execution_count": 7,
     "metadata": {},
     "output_type": "execute_result"
    }
   ],
   "source": [
    "drop_label = ['AF', 'AVRT', 'SA', 'SAAWR']\n",
    "diagnostics_new = diagnostics[~diagnostics['Rhythm'].isin(drop_label)]\n",
    "len(diagnostics_new)"
   ]
  },
  {
   "cell_type": "code",
   "execution_count": 8,
   "metadata": {},
   "outputs": [
    {
     "data": {
      "text/plain": [
       "FileName           0\n",
       "Rhythm             0\n",
       "Beat               0\n",
       "PatientAge         0\n",
       "DateofBirth        0\n",
       "Gender             0\n",
       "VentricularRate    0\n",
       "AtrialRate         0\n",
       "QRSDuration        0\n",
       "QTInterval         0\n",
       "QTCorrected        0\n",
       "RAxis              0\n",
       "TAxis              0\n",
       "QRSCount           0\n",
       "QOnset             0\n",
       "QOffset            0\n",
       "TOffset            0\n",
       "dtype: int64"
      ]
     },
     "execution_count": 8,
     "metadata": {},
     "output_type": "execute_result"
    }
   ],
   "source": [
    "diagnostics_new.isna().sum()"
   ]
  },
  {
   "cell_type": "markdown",
   "metadata": {},
   "source": [
    "#### Obtain file list and use this to sort out faulty records\n",
    "\n",
    "Indices in the data matrix will correspond to indices in the file name list.\n",
    "In the final script faulty files won't be loaded."
   ]
  },
  {
   "cell_type": "code",
   "execution_count": 9,
   "metadata": {},
   "outputs": [],
   "source": [
    "file_list = diagnostics_new['FileName'].tolist()\n",
    "file_list.sort()"
   ]
  },
  {
   "cell_type": "code",
   "execution_count": 10,
   "metadata": {},
   "outputs": [
    {
     "name": "stderr",
     "output_type": "stream",
     "text": [
      " 18%|█▊        | 1755/9787 [01:08<04:56, 27.07it/s]"
     ]
    },
    {
     "name": "stdout",
     "output_type": "stream",
     "text": [
      "(1926, 12) MUSE_20180113_124215_52000 1749\n"
     ]
    },
    {
     "name": "stderr",
     "output_type": "stream",
     "text": [
      "100%|██████████| 9787/9787 [06:21<00:00, 25.69it/s]\n"
     ]
    },
    {
     "name": "stdout",
     "output_type": "stream",
     "text": [
      "(9786, 5000, 12)\n"
     ]
    }
   ],
   "source": [
    "ecg_graphs = []\n",
    "for idx, file in enumerate(tqdm(file_list)):\n",
    "    ecg = np.genfromtxt(os.path.join(root + '/ECGDataDenoised', file + '.csv'), delimiter=',')\n",
    "    if ecg.shape != (5000, 12):\n",
    "        print(ecg.shape, file, idx)\n",
    "    else:\n",
    "        ecg = np.expand_dims(ecg, axis=0)\n",
    "        ecg_graphs.append(ecg)\n",
    "    \n",
    "ecg_graphs = np.concatenate(ecg_graphs)\n",
    "print(ecg_graphs.shape)"
   ]
  },
  {
   "cell_type": "markdown",
   "metadata": {},
   "source": [
    "#### Serves as checkpoint"
   ]
  },
  {
   "cell_type": "code",
   "execution_count": 11,
   "metadata": {},
   "outputs": [],
   "source": [
    "with open('../data/raw/ecgs_raw.pkl', 'wb') as handle:\n",
    "    pickle.dump(ecg_graphs, handle, protocol=pickle.HIGHEST_PROTOCOL)"
   ]
  },
  {
   "cell_type": "code",
   "execution_count": 2,
   "metadata": {},
   "outputs": [],
   "source": [
    "with open('../data/raw/ecgs_raw.pkl', 'rb') as handle:\n",
    "    ecg_graphs = pickle.load(handle)"
   ]
  },
  {
   "cell_type": "markdown",
   "metadata": {},
   "source": [
    "#### Check for NaNs"
   ]
  },
  {
   "cell_type": "code",
   "execution_count": 13,
   "metadata": {},
   "outputs": [
    {
     "data": {
      "text/plain": [
       "149370"
      ]
     },
     "execution_count": 13,
     "metadata": {},
     "output_type": "execute_result"
    }
   ],
   "source": [
    "np.count_nonzero(np.isnan(ecg_graphs))"
   ]
  },
  {
   "cell_type": "code",
   "execution_count": 14,
   "metadata": {},
   "outputs": [
    {
     "data": {
      "text/plain": [
       "0.0254394032291028"
      ]
     },
     "execution_count": 14,
     "metadata": {},
     "output_type": "execute_result"
    }
   ],
   "source": [
    "# Percentage of Nans to total values\n",
    "(np.count_nonzero(np.isnan(ecg_graphs)) / (ecg_graphs.shape[0] * ecg_graphs.shape[1] * ecg_graphs.shape[2])) * 100"
   ]
  },
  {
   "cell_type": "code",
   "execution_count": 15,
   "metadata": {},
   "outputs": [],
   "source": [
    "# Are complete entries NaNs?\n",
    "for i in range(len(ecg_graphs)):\n",
    "    not_nan = np.count_nonzero(~np.isnan(ecg_graphs[i]))\n",
    "    if not_nan == 0:\n",
    "        print(i)"
   ]
  },
  {
   "cell_type": "code",
   "execution_count": 16,
   "metadata": {},
   "outputs": [],
   "source": [
    "# Are some series NaN?\n",
    "for i in range(ecg_graphs.shape[0]):\n",
    "    for j in range(ecg_graphs.shape[2]):\n",
    "        not_nan = np.count_nonzero(~np.isnan(ecg_graphs[i,:,j]))\n",
    "        if not_nan == 0:\n",
    "            print('Entry: {}; Sensor: {}'.format(i, j))"
   ]
  },
  {
   "cell_type": "markdown",
   "metadata": {},
   "source": [
    "No? Perfect"
   ]
  },
  {
   "cell_type": "code",
   "execution_count": 17,
   "metadata": {},
   "outputs": [
    {
     "name": "stdout",
     "output_type": "stream",
     "text": [
      "Entry: 2435; Sensor: 6\n",
      "Entry: 2435; Sensor: 7\n",
      "Entry: 2435; Sensor: 8\n",
      "Entry: 2435; Sensor: 9\n",
      "Entry: 2435; Sensor: 10\n",
      "Entry: 2435; Sensor: 11\n",
      "Entry: 2464; Sensor: 6\n",
      "Entry: 2464; Sensor: 7\n",
      "Entry: 2464; Sensor: 8\n",
      "Entry: 2464; Sensor: 9\n",
      "Entry: 2464; Sensor: 10\n",
      "Entry: 2464; Sensor: 11\n",
      "Entry: 7166; Sensor: 6\n",
      "Entry: 7166; Sensor: 7\n",
      "Entry: 7166; Sensor: 8\n",
      "Entry: 7166; Sensor: 9\n",
      "Entry: 7166; Sensor: 10\n",
      "Entry: 7166; Sensor: 11\n",
      "Entry: 7343; Sensor: 6\n",
      "Entry: 7343; Sensor: 7\n",
      "Entry: 7343; Sensor: 8\n",
      "Entry: 7343; Sensor: 9\n",
      "Entry: 7343; Sensor: 10\n",
      "Entry: 7343; Sensor: 11\n",
      "Entry: 9129; Sensor: 7\n",
      "Entry: 9129; Sensor: 9\n",
      "Entry: 9129; Sensor: 11\n",
      "Entry: 9483; Sensor: 11\n",
      "Entry: 9485; Sensor: 7\n",
      "Entry: 9488; Sensor: 11\n"
     ]
    }
   ],
   "source": [
    "# Are 30% of values in some series NaN?\n",
    "for i in range(ecg_graphs.shape[0]):\n",
    "    for j in range(ecg_graphs.shape[2]):\n",
    "        nan = np.count_nonzero(np.isnan(ecg_graphs[i,:,j]))\n",
    "        if nan > 0.2 * 5000 :\n",
    "            print('Entry: {}; Sensor: {}'.format(i, j))"
   ]
  },
  {
   "cell_type": "code",
   "execution_count": 4,
   "metadata": {},
   "outputs": [
    {
     "data": {
      "text/plain": [
       "[<matplotlib.lines.Line2D at 0x7f0df8259d30>]"
      ]
     },
     "execution_count": 4,
     "metadata": {},
     "output_type": "execute_result"
    },
    {
     "data": {
      "image/png": "[encoded data removed]",
      "text/plain": [
       "<Figure size 432x288 with 1 Axes>"
      ]
     },
     "metadata": {
      "needs_background": "light"
     },
     "output_type": "display_data"
    }
   ],
   "source": [
    "plt.plot(ecg_graphs[2435,:,6])"
   ]
  },
  {
   "cell_type": "code",
   "execution_count": 7,
   "metadata": {},
   "outputs": [
    {
     "name": "stdout",
     "output_type": "stream",
     "text": [
      "Entry: 9746; Sensor: 0\n",
      "Entry: 9746; Sensor: 1\n",
      "Entry: 9746; Sensor: 2\n",
      "Entry: 9746; Sensor: 3\n",
      "Entry: 9746; Sensor: 4\n",
      "Entry: 9746; Sensor: 5\n",
      "Entry: 9746; Sensor: 6\n",
      "Entry: 9746; Sensor: 7\n",
      "Entry: 9746; Sensor: 8\n",
      "Entry: 9746; Sensor: 9\n",
      "Entry: 9746; Sensor: 10\n",
      "Entry: 9746; Sensor: 11\n",
      "Entry: 9747; Sensor: 0\n",
      "Entry: 9747; Sensor: 1\n",
      "Entry: 9747; Sensor: 2\n",
      "Entry: 9747; Sensor: 3\n",
      "Entry: 9747; Sensor: 4\n",
      "Entry: 9747; Sensor: 5\n",
      "Entry: 9747; Sensor: 6\n",
      "Entry: 9747; Sensor: 7\n",
      "Entry: 9747; Sensor: 8\n",
      "Entry: 9747; Sensor: 9\n",
      "Entry: 9747; Sensor: 10\n",
      "Entry: 9747; Sensor: 11\n",
      "Entry: 9748; Sensor: 0\n",
      "Entry: 9748; Sensor: 1\n",
      "Entry: 9748; Sensor: 2\n",
      "Entry: 9748; Sensor: 3\n",
      "Entry: 9748; Sensor: 4\n",
      "Entry: 9748; Sensor: 5\n",
      "Entry: 9748; Sensor: 6\n",
      "Entry: 9748; Sensor: 7\n",
      "Entry: 9748; Sensor: 8\n",
      "Entry: 9748; Sensor: 9\n",
      "Entry: 9748; Sensor: 10\n",
      "Entry: 9748; Sensor: 11\n",
      "Entry: 9749; Sensor: 0\n",
      "Entry: 9749; Sensor: 1\n",
      "Entry: 9749; Sensor: 2\n",
      "Entry: 9749; Sensor: 3\n",
      "Entry: 9749; Sensor: 4\n",
      "Entry: 9749; Sensor: 5\n",
      "Entry: 9749; Sensor: 6\n",
      "Entry: 9749; Sensor: 7\n",
      "Entry: 9749; Sensor: 8\n",
      "Entry: 9749; Sensor: 9\n",
      "Entry: 9749; Sensor: 10\n",
      "Entry: 9749; Sensor: 11\n",
      "Entry: 9750; Sensor: 0\n",
      "Entry: 9750; Sensor: 1\n",
      "Entry: 9750; Sensor: 2\n",
      "Entry: 9750; Sensor: 3\n",
      "Entry: 9750; Sensor: 4\n",
      "Entry: 9750; Sensor: 5\n",
      "Entry: 9750; Sensor: 6\n",
      "Entry: 9750; Sensor: 7\n",
      "Entry: 9750; Sensor: 8\n",
      "Entry: 9750; Sensor: 9\n",
      "Entry: 9750; Sensor: 10\n",
      "Entry: 9750; Sensor: 11\n",
      "Entry: 9751; Sensor: 0\n",
      "Entry: 9751; Sensor: 1\n",
      "Entry: 9751; Sensor: 2\n",
      "Entry: 9751; Sensor: 3\n",
      "Entry: 9751; Sensor: 4\n",
      "Entry: 9751; Sensor: 5\n",
      "Entry: 9751; Sensor: 6\n",
      "Entry: 9751; Sensor: 7\n",
      "Entry: 9751; Sensor: 8\n",
      "Entry: 9751; Sensor: 9\n",
      "Entry: 9751; Sensor: 10\n",
      "Entry: 9751; Sensor: 11\n",
      "Entry: 9752; Sensor: 0\n",
      "Entry: 9752; Sensor: 1\n",
      "Entry: 9752; Sensor: 2\n",
      "Entry: 9752; Sensor: 3\n",
      "Entry: 9752; Sensor: 4\n",
      "Entry: 9752; Sensor: 5\n",
      "Entry: 9752; Sensor: 6\n",
      "Entry: 9752; Sensor: 7\n",
      "Entry: 9752; Sensor: 8\n",
      "Entry: 9752; Sensor: 9\n",
      "Entry: 9752; Sensor: 10\n",
      "Entry: 9752; Sensor: 11\n",
      "Entry: 9753; Sensor: 0\n",
      "Entry: 9753; Sensor: 1\n",
      "Entry: 9753; Sensor: 2\n",
      "Entry: 9753; Sensor: 3\n",
      "Entry: 9753; Sensor: 4\n",
      "Entry: 9753; Sensor: 5\n",
      "Entry: 9753; Sensor: 6\n",
      "Entry: 9753; Sensor: 7\n",
      "Entry: 9753; Sensor: 8\n",
      "Entry: 9753; Sensor: 9\n",
      "Entry: 9753; Sensor: 10\n",
      "Entry: 9753; Sensor: 11\n",
      "Entry: 9754; Sensor: 0\n",
      "Entry: 9754; Sensor: 1\n",
      "Entry: 9754; Sensor: 2\n",
      "Entry: 9754; Sensor: 3\n",
      "Entry: 9754; Sensor: 4\n",
      "Entry: 9754; Sensor: 5\n",
      "Entry: 9754; Sensor: 6\n",
      "Entry: 9754; Sensor: 7\n",
      "Entry: 9754; Sensor: 8\n",
      "Entry: 9754; Sensor: 9\n",
      "Entry: 9754; Sensor: 10\n",
      "Entry: 9754; Sensor: 11\n",
      "Entry: 9755; Sensor: 0\n",
      "Entry: 9755; Sensor: 1\n",
      "Entry: 9755; Sensor: 2\n",
      "Entry: 9755; Sensor: 3\n",
      "Entry: 9755; Sensor: 4\n",
      "Entry: 9755; Sensor: 5\n",
      "Entry: 9755; Sensor: 6\n",
      "Entry: 9755; Sensor: 7\n",
      "Entry: 9755; Sensor: 8\n",
      "Entry: 9755; Sensor: 9\n",
      "Entry: 9755; Sensor: 10\n",
      "Entry: 9755; Sensor: 11\n",
      "Entry: 9756; Sensor: 0\n",
      "Entry: 9756; Sensor: 1\n",
      "Entry: 9756; Sensor: 2\n",
      "Entry: 9756; Sensor: 3\n",
      "Entry: 9756; Sensor: 4\n",
      "Entry: 9756; Sensor: 5\n",
      "Entry: 9756; Sensor: 6\n",
      "Entry: 9756; Sensor: 7\n",
      "Entry: 9756; Sensor: 8\n",
      "Entry: 9756; Sensor: 9\n",
      "Entry: 9756; Sensor: 10\n",
      "Entry: 9756; Sensor: 11\n",
      "Entry: 9757; Sensor: 0\n",
      "Entry: 9757; Sensor: 1\n",
      "Entry: 9757; Sensor: 2\n",
      "Entry: 9757; Sensor: 3\n",
      "Entry: 9757; Sensor: 4\n",
      "Entry: 9757; Sensor: 5\n",
      "Entry: 9757; Sensor: 6\n",
      "Entry: 9757; Sensor: 7\n",
      "Entry: 9757; Sensor: 8\n",
      "Entry: 9757; Sensor: 9\n",
      "Entry: 9757; Sensor: 10\n",
      "Entry: 9757; Sensor: 11\n",
      "Entry: 9758; Sensor: 0\n",
      "Entry: 9758; Sensor: 1\n",
      "Entry: 9758; Sensor: 2\n",
      "Entry: 9758; Sensor: 3\n",
      "Entry: 9758; Sensor: 4\n",
      "Entry: 9758; Sensor: 5\n",
      "Entry: 9758; Sensor: 6\n",
      "Entry: 9758; Sensor: 7\n",
      "Entry: 9758; Sensor: 8\n",
      "Entry: 9758; Sensor: 9\n",
      "Entry: 9758; Sensor: 10\n",
      "Entry: 9758; Sensor: 11\n",
      "Entry: 9759; Sensor: 0\n",
      "Entry: 9759; Sensor: 1\n",
      "Entry: 9759; Sensor: 2\n",
      "Entry: 9759; Sensor: 3\n",
      "Entry: 9759; Sensor: 4\n",
      "Entry: 9759; Sensor: 5\n",
      "Entry: 9759; Sensor: 6\n",
      "Entry: 9759; Sensor: 7\n",
      "Entry: 9759; Sensor: 8\n",
      "Entry: 9759; Sensor: 9\n",
      "Entry: 9759; Sensor: 10\n",
      "Entry: 9759; Sensor: 11\n",
      "Entry: 9760; Sensor: 0\n",
      "Entry: 9760; Sensor: 1\n",
      "Entry: 9760; Sensor: 2\n",
      "Entry: 9760; Sensor: 3\n",
      "Entry: 9760; Sensor: 4\n",
      "Entry: 9760; Sensor: 5\n",
      "Entry: 9760; Sensor: 6\n",
      "Entry: 9760; Sensor: 7\n",
      "Entry: 9760; Sensor: 8\n",
      "Entry: 9760; Sensor: 9\n",
      "Entry: 9760; Sensor: 10\n",
      "Entry: 9760; Sensor: 11\n",
      "Entry: 9761; Sensor: 0\n",
      "Entry: 9761; Sensor: 1\n",
      "Entry: 9761; Sensor: 2\n",
      "Entry: 9761; Sensor: 3\n",
      "Entry: 9761; Sensor: 4\n",
      "Entry: 9761; Sensor: 5\n",
      "Entry: 9761; Sensor: 6\n",
      "Entry: 9761; Sensor: 7\n",
      "Entry: 9761; Sensor: 8\n",
      "Entry: 9761; Sensor: 9\n",
      "Entry: 9761; Sensor: 10\n",
      "Entry: 9761; Sensor: 11\n",
      "Entry: 9762; Sensor: 0\n",
      "Entry: 9762; Sensor: 1\n",
      "Entry: 9762; Sensor: 2\n",
      "Entry: 9762; Sensor: 3\n",
      "Entry: 9762; Sensor: 4\n",
      "Entry: 9762; Sensor: 5\n",
      "Entry: 9762; Sensor: 6\n",
      "Entry: 9762; Sensor: 7\n",
      "Entry: 9762; Sensor: 8\n",
      "Entry: 9762; Sensor: 9\n",
      "Entry: 9762; Sensor: 10\n",
      "Entry: 9762; Sensor: 11\n",
      "Entry: 9763; Sensor: 0\n",
      "Entry: 9763; Sensor: 1\n",
      "Entry: 9763; Sensor: 2\n",
      "Entry: 9763; Sensor: 3\n",
      "Entry: 9763; Sensor: 4\n",
      "Entry: 9763; Sensor: 5\n",
      "Entry: 9763; Sensor: 6\n",
      "Entry: 9763; Sensor: 7\n",
      "Entry: 9763; Sensor: 8\n",
      "Entry: 9763; Sensor: 9\n",
      "Entry: 9763; Sensor: 10\n",
      "Entry: 9763; Sensor: 11\n",
      "Entry: 9764; Sensor: 0\n",
      "Entry: 9764; Sensor: 1\n",
      "Entry: 9764; Sensor: 2\n",
      "Entry: 9764; Sensor: 3\n",
      "Entry: 9764; Sensor: 4\n",
      "Entry: 9764; Sensor: 5\n",
      "Entry: 9764; Sensor: 6\n",
      "Entry: 9764; Sensor: 7\n",
      "Entry: 9764; Sensor: 8\n",
      "Entry: 9764; Sensor: 9\n",
      "Entry: 9764; Sensor: 10\n",
      "Entry: 9764; Sensor: 11\n",
      "Entry: 9765; Sensor: 0\n",
      "Entry: 9765; Sensor: 1\n",
      "Entry: 9765; Sensor: 2\n",
      "Entry: 9765; Sensor: 3\n",
      "Entry: 9765; Sensor: 4\n",
      "Entry: 9765; Sensor: 5\n",
      "Entry: 9765; Sensor: 6\n",
      "Entry: 9765; Sensor: 7\n",
      "Entry: 9765; Sensor: 8\n",
      "Entry: 9765; Sensor: 9\n",
      "Entry: 9765; Sensor: 10\n",
      "Entry: 9765; Sensor: 11\n",
      "Entry: 9766; Sensor: 0\n",
      "Entry: 9766; Sensor: 1\n",
      "Entry: 9766; Sensor: 2\n",
      "Entry: 9766; Sensor: 3\n",
      "Entry: 9766; Sensor: 4\n",
      "Entry: 9766; Sensor: 5\n",
      "Entry: 9766; Sensor: 6\n",
      "Entry: 9766; Sensor: 7\n",
      "Entry: 9766; Sensor: 8\n",
      "Entry: 9766; Sensor: 9\n",
      "Entry: 9766; Sensor: 10\n",
      "Entry: 9766; Sensor: 11\n",
      "Entry: 9767; Sensor: 0\n",
      "Entry: 9767; Sensor: 1\n",
      "Entry: 9767; Sensor: 2\n",
      "Entry: 9767; Sensor: 3\n",
      "Entry: 9767; Sensor: 4\n",
      "Entry: 9767; Sensor: 5\n",
      "Entry: 9767; Sensor: 6\n",
      "Entry: 9767; Sensor: 7\n",
      "Entry: 9767; Sensor: 8\n",
      "Entry: 9767; Sensor: 9\n",
      "Entry: 9767; Sensor: 10\n",
      "Entry: 9767; Sensor: 11\n",
      "Entry: 9768; Sensor: 0\n",
      "Entry: 9768; Sensor: 1\n",
      "Entry: 9768; Sensor: 2\n",
      "Entry: 9768; Sensor: 3\n",
      "Entry: 9768; Sensor: 4\n",
      "Entry: 9768; Sensor: 5\n",
      "Entry: 9768; Sensor: 6\n",
      "Entry: 9768; Sensor: 7\n",
      "Entry: 9768; Sensor: 8\n",
      "Entry: 9768; Sensor: 9\n",
      "Entry: 9768; Sensor: 10\n",
      "Entry: 9768; Sensor: 11\n",
      "Entry: 9769; Sensor: 0\n",
      "Entry: 9769; Sensor: 1\n",
      "Entry: 9769; Sensor: 2\n",
      "Entry: 9769; Sensor: 3\n",
      "Entry: 9769; Sensor: 4\n",
      "Entry: 9769; Sensor: 5\n",
      "Entry: 9769; Sensor: 6\n",
      "Entry: 9769; Sensor: 7\n",
      "Entry: 9769; Sensor: 8\n",
      "Entry: 9769; Sensor: 9\n",
      "Entry: 9769; Sensor: 10\n",
      "Entry: 9769; Sensor: 11\n",
      "Entry: 9770; Sensor: 0\n",
      "Entry: 9770; Sensor: 1\n",
      "Entry: 9770; Sensor: 2\n",
      "Entry: 9770; Sensor: 3\n",
      "Entry: 9770; Sensor: 4\n",
      "Entry: 9770; Sensor: 5\n",
      "Entry: 9770; Sensor: 6\n",
      "Entry: 9770; Sensor: 7\n",
      "Entry: 9770; Sensor: 8\n",
      "Entry: 9770; Sensor: 9\n",
      "Entry: 9770; Sensor: 10\n",
      "Entry: 9770; Sensor: 11\n",
      "Entry: 9771; Sensor: 0\n",
      "Entry: 9771; Sensor: 1\n",
      "Entry: 9771; Sensor: 2\n",
      "Entry: 9771; Sensor: 3\n",
      "Entry: 9771; Sensor: 4\n",
      "Entry: 9771; Sensor: 5\n",
      "Entry: 9771; Sensor: 6\n",
      "Entry: 9771; Sensor: 7\n",
      "Entry: 9771; Sensor: 8\n",
      "Entry: 9771; Sensor: 9\n",
      "Entry: 9771; Sensor: 10\n",
      "Entry: 9771; Sensor: 11\n",
      "Entry: 9772; Sensor: 0\n",
      "Entry: 9772; Sensor: 1\n",
      "Entry: 9772; Sensor: 2\n",
      "Entry: 9772; Sensor: 3\n",
      "Entry: 9772; Sensor: 4\n",
      "Entry: 9772; Sensor: 5\n",
      "Entry: 9772; Sensor: 6\n",
      "Entry: 9772; Sensor: 7\n",
      "Entry: 9772; Sensor: 8\n",
      "Entry: 9772; Sensor: 9\n",
      "Entry: 9772; Sensor: 10\n",
      "Entry: 9772; Sensor: 11\n",
      "Entry: 9773; Sensor: 0\n",
      "Entry: 9773; Sensor: 1\n",
      "Entry: 9773; Sensor: 2\n",
      "Entry: 9773; Sensor: 3\n",
      "Entry: 9773; Sensor: 4\n",
      "Entry: 9773; Sensor: 5\n",
      "Entry: 9773; Sensor: 6\n",
      "Entry: 9773; Sensor: 7\n",
      "Entry: 9773; Sensor: 8\n",
      "Entry: 9773; Sensor: 9\n",
      "Entry: 9773; Sensor: 10\n",
      "Entry: 9773; Sensor: 11\n",
      "Entry: 9774; Sensor: 0\n",
      "Entry: 9774; Sensor: 1\n",
      "Entry: 9774; Sensor: 2\n",
      "Entry: 9774; Sensor: 3\n",
      "Entry: 9774; Sensor: 4\n",
      "Entry: 9774; Sensor: 5\n",
      "Entry: 9774; Sensor: 6\n",
      "Entry: 9774; Sensor: 7\n",
      "Entry: 9774; Sensor: 8\n",
      "Entry: 9774; Sensor: 9\n",
      "Entry: 9774; Sensor: 10\n",
      "Entry: 9774; Sensor: 11\n",
      "Entry: 9775; Sensor: 0\n",
      "Entry: 9775; Sensor: 1\n",
      "Entry: 9775; Sensor: 2\n",
      "Entry: 9775; Sensor: 3\n",
      "Entry: 9775; Sensor: 4\n",
      "Entry: 9775; Sensor: 5\n",
      "Entry: 9775; Sensor: 6\n",
      "Entry: 9775; Sensor: 7\n",
      "Entry: 9775; Sensor: 8\n",
      "Entry: 9775; Sensor: 9\n",
      "Entry: 9775; Sensor: 10\n",
      "Entry: 9775; Sensor: 11\n",
      "Entry: 9776; Sensor: 0\n",
      "Entry: 9776; Sensor: 1\n",
      "Entry: 9776; Sensor: 2\n",
      "Entry: 9776; Sensor: 3\n",
      "Entry: 9776; Sensor: 4\n",
      "Entry: 9776; Sensor: 5\n",
      "Entry: 9776; Sensor: 6\n",
      "Entry: 9776; Sensor: 7\n",
      "Entry: 9776; Sensor: 8\n",
      "Entry: 9776; Sensor: 9\n",
      "Entry: 9776; Sensor: 10\n",
      "Entry: 9776; Sensor: 11\n",
      "Entry: 9777; Sensor: 0\n",
      "Entry: 9777; Sensor: 1\n",
      "Entry: 9777; Sensor: 2\n",
      "Entry: 9777; Sensor: 3\n",
      "Entry: 9777; Sensor: 4\n",
      "Entry: 9777; Sensor: 5\n",
      "Entry: 9777; Sensor: 6\n",
      "Entry: 9777; Sensor: 7\n",
      "Entry: 9777; Sensor: 8\n",
      "Entry: 9777; Sensor: 9\n",
      "Entry: 9777; Sensor: 10\n",
      "Entry: 9777; Sensor: 11\n",
      "Entry: 9778; Sensor: 0\n",
      "Entry: 9778; Sensor: 1\n",
      "Entry: 9778; Sensor: 2\n",
      "Entry: 9778; Sensor: 3\n",
      "Entry: 9778; Sensor: 4\n",
      "Entry: 9778; Sensor: 5\n",
      "Entry: 9778; Sensor: 6\n",
      "Entry: 9778; Sensor: 7\n",
      "Entry: 9778; Sensor: 8\n",
      "Entry: 9778; Sensor: 9\n",
      "Entry: 9778; Sensor: 10\n",
      "Entry: 9778; Sensor: 11\n",
      "Entry: 9779; Sensor: 0\n",
      "Entry: 9779; Sensor: 1\n",
      "Entry: 9779; Sensor: 2\n",
      "Entry: 9779; Sensor: 3\n",
      "Entry: 9779; Sensor: 4\n",
      "Entry: 9779; Sensor: 5\n",
      "Entry: 9779; Sensor: 6\n",
      "Entry: 9779; Sensor: 7\n",
      "Entry: 9779; Sensor: 8\n",
      "Entry: 9779; Sensor: 9\n",
      "Entry: 9779; Sensor: 10\n",
      "Entry: 9779; Sensor: 11\n",
      "Entry: 9780; Sensor: 0\n",
      "Entry: 9780; Sensor: 1\n",
      "Entry: 9780; Sensor: 2\n",
      "Entry: 9780; Sensor: 3\n",
      "Entry: 9780; Sensor: 4\n",
      "Entry: 9780; Sensor: 5\n",
      "Entry: 9780; Sensor: 6\n",
      "Entry: 9780; Sensor: 7\n",
      "Entry: 9780; Sensor: 8\n",
      "Entry: 9780; Sensor: 9\n",
      "Entry: 9780; Sensor: 10\n",
      "Entry: 9780; Sensor: 11\n",
      "Entry: 9781; Sensor: 0\n",
      "Entry: 9781; Sensor: 1\n",
      "Entry: 9781; Sensor: 2\n",
      "Entry: 9781; Sensor: 3\n",
      "Entry: 9781; Sensor: 4\n",
      "Entry: 9781; Sensor: 5\n",
      "Entry: 9781; Sensor: 6\n",
      "Entry: 9781; Sensor: 7\n",
      "Entry: 9781; Sensor: 8\n",
      "Entry: 9781; Sensor: 9\n",
      "Entry: 9781; Sensor: 10\n",
      "Entry: 9781; Sensor: 11\n",
      "Entry: 9782; Sensor: 0\n",
      "Entry: 9782; Sensor: 1\n",
      "Entry: 9782; Sensor: 2\n",
      "Entry: 9782; Sensor: 3\n",
      "Entry: 9782; Sensor: 4\n",
      "Entry: 9782; Sensor: 5\n",
      "Entry: 9782; Sensor: 6\n",
      "Entry: 9782; Sensor: 7\n",
      "Entry: 9782; Sensor: 8\n",
      "Entry: 9782; Sensor: 9\n",
      "Entry: 9782; Sensor: 10\n",
      "Entry: 9782; Sensor: 11\n",
      "Entry: 9783; Sensor: 0\n",
      "Entry: 9783; Sensor: 1\n",
      "Entry: 9783; Sensor: 2\n",
      "Entry: 9783; Sensor: 3\n",
      "Entry: 9783; Sensor: 4\n",
      "Entry: 9783; Sensor: 5\n",
      "Entry: 9783; Sensor: 6\n",
      "Entry: 9783; Sensor: 7\n",
      "Entry: 9783; Sensor: 8\n",
      "Entry: 9783; Sensor: 9\n",
      "Entry: 9783; Sensor: 10\n",
      "Entry: 9783; Sensor: 11\n",
      "Entry: 9784; Sensor: 0\n",
      "Entry: 9784; Sensor: 1\n",
      "Entry: 9784; Sensor: 2\n",
      "Entry: 9784; Sensor: 3\n",
      "Entry: 9784; Sensor: 4\n",
      "Entry: 9784; Sensor: 5\n",
      "Entry: 9784; Sensor: 6\n",
      "Entry: 9784; Sensor: 7\n",
      "Entry: 9784; Sensor: 8\n",
      "Entry: 9784; Sensor: 9\n",
      "Entry: 9784; Sensor: 10\n",
      "Entry: 9784; Sensor: 11\n",
      "Entry: 9785; Sensor: 0\n",
      "Entry: 9785; Sensor: 1\n",
      "Entry: 9785; Sensor: 2\n",
      "Entry: 9785; Sensor: 3\n",
      "Entry: 9785; Sensor: 4\n",
      "Entry: 9785; Sensor: 5\n",
      "Entry: 9785; Sensor: 6\n",
      "Entry: 9785; Sensor: 7\n",
      "Entry: 9785; Sensor: 8\n",
      "Entry: 9785; Sensor: 9\n",
      "Entry: 9785; Sensor: 10\n",
      "Entry: 9785; Sensor: 11\n"
     ]
    }
   ],
   "source": [
    "# Do some sensors only report one value (or is the sensor dead)?\n",
    "stds = []\n",
    "for i in range(ecg_graphs.shape[0]):\n",
    "    for j in range(ecg_graphs.shape[2]):\n",
    "        std = np.std(ecg_graphs[i,:,j])\n",
    "        stds.append(std)\n",
    "        if std == 0 :\n",
    "            print('Entry: {}; Sensor: {}'.format(i, j))"
   ]
  },
  {
   "cell_type": "code",
   "execution_count": 8,
   "metadata": {},
   "outputs": [
    {
     "data": {
      "text/plain": [
       "[<matplotlib.lines.Line2D at 0x7f0df5d67820>]"
      ]
     },
     "execution_count": 8,
     "metadata": {},
     "output_type": "execute_result"
    },
    {
     "data": {
      "image/png": "[encoded data removed]",
      "text/plain": [
       "<Figure size 432x288 with 1 Axes>"
      ]
     },
     "metadata": {
      "needs_background": "light"
     },
     "output_type": "display_data"
    }
   ],
   "source": [
    "plt.plot(ecg_graphs[9747,: ,7])\n",
    "plt.show()"
   ]
  },
  {
   "cell_type": "code",
   "execution_count": 12,
   "metadata": {},
   "outputs": [
    {
     "data": {
      "image/png": "[encoded data removed]",
      "text/plain": [
       "<Figure size 432x288 with 1 Axes>"
      ]
     },
     "metadata": {
      "needs_background": "light"
     },
     "output_type": "display_data"
    }
   ],
   "source": [
    "plt.hist(stds, bins=30)\n",
    "plt.show()"
   ]
  },
  {
   "cell_type": "code",
   "execution_count": 20,
   "metadata": {},
   "outputs": [
    {
     "name": "stdout",
     "output_type": "stream",
     "text": [
      "-16721.0\n",
      "20584.0\n"
     ]
    }
   ],
   "source": [
    "# Are extreme outliers in the data?\n",
    "print(np.nanmin(ecg_graphs))\n",
    "print(np.nanmax(ecg_graphs))"
   ]
  },
  {
   "cell_type": "code",
   "execution_count": 30,
   "metadata": {},
   "outputs": [
    {
     "name": "stdout",
     "output_type": "stream",
     "text": [
      "Entry: 4; Sensor: 8\n",
      "Entry: 4; Sensor: 11\n",
      "Entry: 10; Sensor: 10\n",
      "Entry: 10; Sensor: 11\n",
      "Entry: 53; Sensor: 7\n",
      "Entry: 53; Sensor: 8\n",
      "Entry: 64; Sensor: 8\n",
      "Entry: 77; Sensor: 11\n",
      "Entry: 188; Sensor: 9\n",
      "Entry: 188; Sensor: 10\n",
      "Entry: 194; Sensor: 7\n",
      "Entry: 252; Sensor: 8\n",
      "Entry: 308; Sensor: 7\n",
      "Entry: 308; Sensor: 8\n",
      "Entry: 308; Sensor: 10\n",
      "Entry: 309; Sensor: 10\n",
      "Entry: 352; Sensor: 10\n",
      "Entry: 396; Sensor: 7\n",
      "Entry: 405; Sensor: 8\n",
      "Entry: 405; Sensor: 10\n",
      "Entry: 492; Sensor: 7\n",
      "Entry: 492; Sensor: 8\n",
      "Entry: 493; Sensor: 8\n",
      "Entry: 494; Sensor: 7\n",
      "Entry: 494; Sensor: 8\n",
      "Entry: 764; Sensor: 10\n",
      "Entry: 819; Sensor: 11\n",
      "Entry: 931; Sensor: 9\n",
      "Entry: 964; Sensor: 7\n",
      "Entry: 1151; Sensor: 8\n",
      "Entry: 1151; Sensor: 9\n",
      "Entry: 1192; Sensor: 10\n",
      "Entry: 1192; Sensor: 11\n",
      "Entry: 1292; Sensor: 10\n",
      "Entry: 1395; Sensor: 9\n",
      "Entry: 1524; Sensor: 7\n",
      "Entry: 1524; Sensor: 8\n",
      "Entry: 1588; Sensor: 10\n",
      "Entry: 1598; Sensor: 10\n",
      "Entry: 1620; Sensor: 8\n",
      "Entry: 1620; Sensor: 9\n",
      "Entry: 1620; Sensor: 11\n",
      "Entry: 1673; Sensor: 10\n",
      "Entry: 1677; Sensor: 11\n",
      "Entry: 1680; Sensor: 11\n",
      "Entry: 1681; Sensor: 8\n",
      "Entry: 1681; Sensor: 9\n",
      "Entry: 1696; Sensor: 10\n",
      "Entry: 1697; Sensor: 10\n",
      "Entry: 1728; Sensor: 9\n",
      "Entry: 1738; Sensor: 7\n",
      "Entry: 1738; Sensor: 8\n",
      "Entry: 1960; Sensor: 9\n",
      "Entry: 1969; Sensor: 9\n",
      "Entry: 1989; Sensor: 6\n",
      "Entry: 1995; Sensor: 10\n",
      "Entry: 2008; Sensor: 10\n",
      "Entry: 2228; Sensor: 7\n",
      "Entry: 2268; Sensor: 7\n",
      "Entry: 2396; Sensor: 0\n",
      "Entry: 2396; Sensor: 1\n",
      "Entry: 2396; Sensor: 3\n",
      "Entry: 2481; Sensor: 9\n",
      "Entry: 2481; Sensor: 10\n",
      "Entry: 2491; Sensor: 11\n",
      "Entry: 2510; Sensor: 8\n",
      "Entry: 2510; Sensor: 9\n",
      "Entry: 2572; Sensor: 8\n",
      "Entry: 2619; Sensor: 9\n",
      "Entry: 2619; Sensor: 10\n",
      "Entry: 2677; Sensor: 10\n",
      "Entry: 2711; Sensor: 11\n",
      "Entry: 2752; Sensor: 9\n",
      "Entry: 2808; Sensor: 7\n",
      "Entry: 2808; Sensor: 8\n",
      "Entry: 2808; Sensor: 9\n",
      "Entry: 2845; Sensor: 11\n",
      "Entry: 2871; Sensor: 10\n",
      "Entry: 2925; Sensor: 11\n",
      "Entry: 2976; Sensor: 8\n",
      "Entry: 2995; Sensor: 9\n",
      "Entry: 2995; Sensor: 10\n",
      "Entry: 3108; Sensor: 10\n",
      "Entry: 3236; Sensor: 9\n",
      "Entry: 3244; Sensor: 11\n",
      "Entry: 3317; Sensor: 7\n",
      "Entry: 3317; Sensor: 8\n",
      "Entry: 3317; Sensor: 9\n",
      "Entry: 3318; Sensor: 1\n",
      "Entry: 3318; Sensor: 2\n",
      "Entry: 3318; Sensor: 5\n",
      "Entry: 3318; Sensor: 7\n",
      "Entry: 3318; Sensor: 8\n",
      "Entry: 3318; Sensor: 9\n",
      "Entry: 3318; Sensor: 11\n",
      "Entry: 3346; Sensor: 9\n",
      "Entry: 3354; Sensor: 10\n",
      "Entry: 3373; Sensor: 7\n",
      "Entry: 3384; Sensor: 9\n",
      "Entry: 3462; Sensor: 7\n",
      "Entry: 3523; Sensor: 8\n",
      "Entry: 3523; Sensor: 9\n",
      "Entry: 3581; Sensor: 9\n",
      "Entry: 3654; Sensor: 9\n",
      "Entry: 3654; Sensor: 10\n",
      "Entry: 3684; Sensor: 9\n",
      "Entry: 3887; Sensor: 11\n",
      "Entry: 3981; Sensor: 10\n",
      "Entry: 3997; Sensor: 9\n",
      "Entry: 3997; Sensor: 10\n",
      "Entry: 4102; Sensor: 11\n",
      "Entry: 4244; Sensor: 9\n",
      "Entry: 4432; Sensor: 6\n",
      "Entry: 4512; Sensor: 8\n",
      "Entry: 4517; Sensor: 10\n",
      "Entry: 4569; Sensor: 7\n",
      "Entry: 4570; Sensor: 10\n",
      "Entry: 4587; Sensor: 0\n",
      "Entry: 4587; Sensor: 1\n",
      "Entry: 4587; Sensor: 3\n",
      "Entry: 4596; Sensor: 11\n",
      "Entry: 4694; Sensor: 9\n",
      "Entry: 4736; Sensor: 9\n",
      "Entry: 4810; Sensor: 10\n",
      "Entry: 4810; Sensor: 11\n",
      "Entry: 4908; Sensor: 8\n",
      "Entry: 4960; Sensor: 8\n",
      "Entry: 5024; Sensor: 11\n",
      "Entry: 5042; Sensor: 10\n",
      "Entry: 5094; Sensor: 10\n",
      "Entry: 5146; Sensor: 10\n",
      "Entry: 5175; Sensor: 8\n",
      "Entry: 5175; Sensor: 9\n",
      "Entry: 5192; Sensor: 7\n",
      "Entry: 5325; Sensor: 7\n",
      "Entry: 5325; Sensor: 8\n",
      "Entry: 5325; Sensor: 9\n",
      "Entry: 5325; Sensor: 10\n",
      "Entry: 5327; Sensor: 9\n",
      "Entry: 5327; Sensor: 10\n",
      "Entry: 5327; Sensor: 11\n",
      "Entry: 5346; Sensor: 8\n",
      "Entry: 5418; Sensor: 9\n",
      "Entry: 5418; Sensor: 11\n",
      "Entry: 5439; Sensor: 9\n",
      "Entry: 5499; Sensor: 1\n",
      "Entry: 5499; Sensor: 2\n",
      "Entry: 5499; Sensor: 5\n",
      "Entry: 5524; Sensor: 7\n",
      "Entry: 5524; Sensor: 8\n",
      "Entry: 5550; Sensor: 9\n",
      "Entry: 5629; Sensor: 11\n",
      "Entry: 5649; Sensor: 9\n",
      "Entry: 5734; Sensor: 7\n",
      "Entry: 5734; Sensor: 8\n",
      "Entry: 5734; Sensor: 9\n",
      "Entry: 5734; Sensor: 11\n",
      "Entry: 5778; Sensor: 8\n",
      "Entry: 5816; Sensor: 10\n",
      "Entry: 5868; Sensor: 8\n",
      "Entry: 5868; Sensor: 9\n",
      "Entry: 5894; Sensor: 11\n",
      "Entry: 5915; Sensor: 7\n",
      "Entry: 5915; Sensor: 8\n",
      "Entry: 5944; Sensor: 9\n",
      "Entry: 5959; Sensor: 8\n",
      "Entry: 5959; Sensor: 9\n",
      "Entry: 5993; Sensor: 9\n",
      "Entry: 5993; Sensor: 10\n",
      "Entry: 6024; Sensor: 10\n",
      "Entry: 6042; Sensor: 9\n",
      "Entry: 6062; Sensor: 9\n",
      "Entry: 6119; Sensor: 7\n",
      "Entry: 6119; Sensor: 8\n",
      "Entry: 6158; Sensor: 9\n",
      "Entry: 6158; Sensor: 10\n",
      "Entry: 6158; Sensor: 11\n",
      "Entry: 6180; Sensor: 8\n",
      "Entry: 6180; Sensor: 9\n",
      "Entry: 6181; Sensor: 7\n",
      "Entry: 6181; Sensor: 8\n",
      "Entry: 6181; Sensor: 9\n",
      "Entry: 6182; Sensor: 8\n",
      "Entry: 6244; Sensor: 8\n",
      "Entry: 6318; Sensor: 7\n",
      "Entry: 6318; Sensor: 8\n",
      "Entry: 6318; Sensor: 9\n",
      "Entry: 6343; Sensor: 8\n",
      "Entry: 6360; Sensor: 10\n",
      "Entry: 6397; Sensor: 8\n",
      "Entry: 6422; Sensor: 11\n",
      "Entry: 6455; Sensor: 8\n",
      "Entry: 6495; Sensor: 11\n",
      "Entry: 6589; Sensor: 9\n",
      "Entry: 6593; Sensor: 9\n",
      "Entry: 6597; Sensor: 9\n",
      "Entry: 6613; Sensor: 6\n",
      "Entry: 6635; Sensor: 8\n",
      "Entry: 6655; Sensor: 10\n",
      "Entry: 6655; Sensor: 11\n",
      "Entry: 6681; Sensor: 10\n",
      "Entry: 6684; Sensor: 9\n",
      "Entry: 6697; Sensor: 7\n",
      "Entry: 6787; Sensor: 9\n",
      "Entry: 6893; Sensor: 8\n",
      "Entry: 6894; Sensor: 8\n",
      "Entry: 6959; Sensor: 0\n",
      "Entry: 6959; Sensor: 1\n",
      "Entry: 6959; Sensor: 3\n",
      "Entry: 6997; Sensor: 10\n",
      "Entry: 6997; Sensor: 11\n",
      "Entry: 7020; Sensor: 9\n",
      "Entry: 7020; Sensor: 10\n",
      "Entry: 7020; Sensor: 11\n",
      "Entry: 7030; Sensor: 9\n",
      "Entry: 7030; Sensor: 10\n",
      "Entry: 7038; Sensor: 8\n",
      "Entry: 7137; Sensor: 7\n",
      "Entry: 7137; Sensor: 8\n",
      "Entry: 7139; Sensor: 9\n",
      "Entry: 7157; Sensor: 10\n",
      "Entry: 7248; Sensor: 8\n",
      "Entry: 7251; Sensor: 8\n",
      "Entry: 7251; Sensor: 9\n",
      "Entry: 7323; Sensor: 10\n",
      "Entry: 7391; Sensor: 7\n",
      "Entry: 7581; Sensor: 8\n",
      "Entry: 7693; Sensor: 11\n",
      "Entry: 8141; Sensor: 9\n",
      "Entry: 8229; Sensor: 11\n",
      "Entry: 8418; Sensor: 11\n",
      "Entry: 8539; Sensor: 10\n",
      "Entry: 8539; Sensor: 11\n",
      "Entry: 8737; Sensor: 10\n",
      "Entry: 8775; Sensor: 7\n",
      "Entry: 8901; Sensor: 10\n",
      "Entry: 8901; Sensor: 11\n",
      "Entry: 8938; Sensor: 10\n",
      "Entry: 8943; Sensor: 7\n",
      "Entry: 8943; Sensor: 8\n",
      "Entry: 9033; Sensor: 11\n",
      "Entry: 9064; Sensor: 10\n",
      "Entry: 9138; Sensor: 10\n",
      "Entry: 9151; Sensor: 9\n",
      "Entry: 9180; Sensor: 11\n",
      "Entry: 9270; Sensor: 7\n",
      "Entry: 9313; Sensor: 9\n",
      "Entry: 9319; Sensor: 9\n",
      "Entry: 9366; Sensor: 11\n",
      "Entry: 9374; Sensor: 9\n",
      "Entry: 9374; Sensor: 10\n",
      "Entry: 9385; Sensor: 11\n",
      "Entry: 9395; Sensor: 11\n",
      "Entry: 9428; Sensor: 8\n",
      "Entry: 9428; Sensor: 9\n",
      "Entry: 9430; Sensor: 8\n",
      "Entry: 9456; Sensor: 11\n",
      "Entry: 9498; Sensor: 10\n",
      "Entry: 9509; Sensor: 8\n",
      "Entry: 9596; Sensor: 11\n",
      "Entry: 9627; Sensor: 8\n",
      "Entry: 9652; Sensor: 8\n",
      "Entry: 9681; Sensor: 9\n",
      "Entry: 9688; Sensor: 10\n",
      "Entry: 9688; Sensor: 11\n",
      "Entry: 9733; Sensor: 9\n",
      "Entry: 9733; Sensor: 10\n"
     ]
    }
   ],
   "source": [
    "# What entries are responsible for these crazy values?\n",
    "for i in range(ecg_graphs.shape[0]):\n",
    "    for j in range(ecg_graphs.shape[2]):\n",
    "        min = np.nanmin(ecg_graphs[i,:,j])\n",
    "        max = np.nanmax(ecg_graphs[i,:,j])\n",
    "        if min < -5000 or max > 5000 :\n",
    "            print('Entry: {}; Sensor: {}'.format(i, j))"
   ]
  },
  {
   "cell_type": "markdown",
   "metadata": {},
   "source": [
    "The list indicates a lot of unsuspected high readings. I don't have enough domain knowledge to sort measure errors from real anomalies. Therefore I raise the max/min level to 10k."
   ]
  },
  {
   "cell_type": "code",
   "execution_count": 33,
   "metadata": {},
   "outputs": [
    {
     "data": {
      "image/png": "[encoded data removed]",
      "text/plain": [
       "<Figure size 432x288 with 1 Axes>"
      ]
     },
     "metadata": {
      "needs_background": "light"
     },
     "output_type": "display_data"
    }
   ],
   "source": [
    "plt.plot(ecg_graphs[4, : ,8])\n",
    "plt.show()"
   ]
  },
  {
   "cell_type": "code",
   "execution_count": 34,
   "metadata": {},
   "outputs": [
    {
     "name": "stdout",
     "output_type": "stream",
     "text": [
      "Entry: 64; Sensor: 8\n",
      "Entry: 308; Sensor: 7\n",
      "Entry: 1681; Sensor: 9\n",
      "Entry: 1969; Sensor: 9\n",
      "Entry: 3654; Sensor: 9\n",
      "Entry: 3654; Sensor: 10\n",
      "Entry: 4587; Sensor: 0\n",
      "Entry: 5524; Sensor: 8\n",
      "Entry: 6455; Sensor: 8\n",
      "Entry: 6655; Sensor: 10\n",
      "Entry: 6655; Sensor: 11\n",
      "Entry: 7139; Sensor: 9\n",
      "Entry: 8141; Sensor: 9\n",
      "Entry: 8539; Sensor: 10\n",
      "Entry: 8539; Sensor: 11\n",
      "Entry: 9385; Sensor: 11\n",
      "Entry: 9430; Sensor: 8\n",
      "Entry: 9498; Sensor: 10\n",
      "Entry: 9688; Sensor: 10\n"
     ]
    }
   ],
   "source": [
    "for i in range(ecg_graphs.shape[0]):\n",
    "    for j in range(ecg_graphs.shape[2]):\n",
    "        min = np.nanmin(ecg_graphs[i,:,j])\n",
    "        max = np.nanmax(ecg_graphs[i,:,j])\n",
    "        if min < -10000 or max > 10000 :\n",
    "            print('Entry: {}; Sensor: {}'.format(i, j))"
   ]
  },
  {
   "cell_type": "code",
   "execution_count": 47,
   "metadata": {},
   "outputs": [
    {
     "data": {
      "image/png": "[encoded data removed]",
      "text/plain": [
       "<Figure size 720x360 with 4 Axes>"
      ]
     },
     "metadata": {
      "needs_background": "light"
     },
     "output_type": "display_data"
    }
   ],
   "source": [
    "fig = plt.figure(figsize=(10, 5))\n",
    "plt.subplot(2, 2, 1)\n",
    "plt.plot(ecg_graphs[64, : ,8])\n",
    "plt.subplot(2, 2, 2)\n",
    "plt.plot(ecg_graphs[9498, : ,10])\n",
    "plt.subplot(2, 2, 3)\n",
    "plt.plot(ecg_graphs[7139, : ,9])\n",
    "plt.subplot(2, 2, 4)\n",
    "plt.plot(ecg_graphs[308, : ,7])\n",
    "fig.tight_layout()\n",
    "plt.savefig('../plots/outlier.pdf')\n",
    "plt.show()"
   ]
  },
  {
   "cell_type": "markdown",
   "metadata": {},
   "source": [
    "## Clean data matrix"
   ]
  },
  {
   "cell_type": "code",
   "execution_count": 3,
   "metadata": {},
   "outputs": [
    {
     "name": "stdout",
     "output_type": "stream",
     "text": [
      "[64, 308, 1681, 1969, 2435, 2464, 3654, 4587, 5524, 6455, 6655, 7139, 7166, 7343, 8141, 8539, 9129, 9385, 9430, 9483, 9485, 9488, 9498, 9746, 9747, 9748, 9749, 9750, 9751, 9752, 9753, 9754, 9755, 9756, 9757, 9758, 9759, 9760, 9761, 9762, 9763, 9764, 9765, 9766, 9767, 9768, 9769, 9770, 9771, 9772, 9773, 9774, 9775, 9776, 9777, 9778, 9779, 9780, 9781, 9782, 9783, 9784]\n"
     ]
    }
   ],
   "source": [
    "# Collected indices:\n",
    "\n",
    "idx_remove = set([64, 308, 1681, 1969, 3654, 4587, 5524, 6455, 6655, 7139, 8141, 8539, 9385, 9430, 9498, 2435, 2464, 7166, 7343, 9129, 9483, 9485, 9488, 9746, 9747, 9748, 9749, 9750, 9751, 9752, 9753, 9754, 9755, 9756, 9757, 9758, 9759, 9760, 9761, 9762, 9763, 9764, 9765, 9766, 9767, 9768, 9769, 9770, 9771, 9772, 9773, 9774, 9775, 9776, 9777, 9778, 9779, 9780, 9781, 9782, 9783, 9784])\n",
    "idx_remove = list(idx_remove)\n",
    "idx_remove.sort()\n",
    "print(idx_remove)"
   ]
  },
  {
   "cell_type": "code",
   "execution_count": 9,
   "metadata": {},
   "outputs": [
    {
     "name": "stdout",
     "output_type": "stream",
     "text": [
      "(9724, 5000, 12)\n"
     ]
    }
   ],
   "source": [
    "mask = np.ones(ecg_graphs.shape[0], dtype=bool)\n",
    "mask[idx_remove] = False\n",
    "ecg_new = ecg_graphs[mask]\n",
    "\n",
    "print(ecg_new.shape)\n",
    "\n"
   ]
  },
  {
   "cell_type": "code",
   "execution_count": 11,
   "metadata": {},
   "outputs": [
    {
     "data": {
      "text/plain": [
       "0.0"
      ]
     },
     "execution_count": 11,
     "metadata": {},
     "output_type": "execute_result"
    }
   ],
   "source": [
    "# Percentage of Nans to total values\n",
    "(np.count_nonzero(np.isnan(ecg_new)) / (ecg_new.shape[0] * ecg_new.shape[1] * ecg_new.shape[2])) * 100"
   ]
  }
 ],
 "metadata": {
  "kernelspec": {
   "display_name": "Python 3",
   "language": "python",
   "name": "python3"
  },
  "language_info": {
   "codemirror_mode": {
    "name": "ipython",
    "version": 3
   },
   "file_extension": ".py",
   "mimetype": "text/x-python",
   "name": "python",
   "nbconvert_exporter": "python",
   "pygments_lexer": "ipython3",
   "version": "3.8.2"
  }
 },
 "nbformat": 4,
 "nbformat_minor": 4
}
